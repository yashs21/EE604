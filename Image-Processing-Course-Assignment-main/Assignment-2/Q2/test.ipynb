{
 "cells": [
  {
   "cell_type": "code",
   "execution_count": null,
   "metadata": {},
   "outputs": [],
   "source": [
    "import cv2\n",
    "import numpy\n",
    "\n",
    "def gaussian(x,sigma):\n",
    "    return (1.0/(2*numpy.pi*(sigma**2)))*numpy.exp(-(x**2)/(2*(sigma**2)))\n",
    "\n",
    "def distance(x1,y1,x2,y2):\n",
    "    return numpy.sqrt(numpy.abs((x1-x2)**2-(y1-y2)**2))\n",
    "\n",
    "def bilateral_filter(image, diameter, sigma_i, sigma_s):\n",
    "    new_image = numpy.zeros(image.shape)\n",
    "\n",
    "    for row in range(len(image)):\n",
    "        for col in range(len(image[0])):\n",
    "            wp_total = 0\n",
    "            filtered_image = 0\n",
    "            for k in range(diameter):\n",
    "                for l in range(diameter):\n",
    "                    n_x =row - (diameter/2 - k)\n",
    "                    n_y =col - (diameter/2 - l)\n",
    "                    if n_x >= len(image):\n",
    "                        n_x -= len(image)\n",
    "                    if n_y >= len(image[0]):\n",
    "                        n_y -= len(image[0])\n",
    "                    gi = gaussian(image[int(n_x)][int(n_y)] - image[row][col], sigma_i)\n",
    "                    gs = gaussian(distance(n_x, n_y, row, col), sigma_s)\n",
    "                    wp = gi * gs\n",
    "                    filtered_image = (filtered_image) + (image[int(n_x)][int(n_y)] * wp)\n",
    "                    wp_total = wp_total + wp\n",
    "            filtered_image = filtered_image // wp_total\n",
    "            new_image[row][col] = int(numpy.round(filtered_image))\n",
    "    return new_image\n",
    "\n",
    "image = cv2.imread(\"in_img.jpg\",0)\n",
    "filtered_image_OpenCV = cv2.bilateralFilter(image, 7, 20.0, 20.0)\n",
    "cv2.imwrite(\"filtered_image_OpenCV.png\", filtered_image_OpenCV)\n",
    "image_own = bilateral_filter(image, 7, 20.0, 20.0)\n",
    "cv2.imwrite(\"filtered_image_own.png\", image_own)\n",
    "\n",
    "\"\"\"\n",
    "The bilateral filter is controlled by important parameters. Two of them are sigma values.\n",
    "Generally, the bilateral filter gives us more control over image.\n",
    "If we increment both sigma values at the same time, the bigger sigma values gives us a\n",
    "more blurred image. If we give sigma values near zero, smoothing does not occur. Changing sigma i\n",
    "directly affects the blur effect on the image. However, sigma s does not affect blur rate. There\n",
    "is no big effect on the image after changing only the sigma s. Sharpness does not necessary that\n",
    "much with sigma s rather than sigma i. To have a more blurred image, we should take sigma values\n",
    "bigger.\n",
    "\"\"\""
   ]
  }
 ],
 "metadata": {
  "language_info": {
   "name": "python"
  }
 },
 "nbformat": 4,
 "nbformat_minor": 2
}
